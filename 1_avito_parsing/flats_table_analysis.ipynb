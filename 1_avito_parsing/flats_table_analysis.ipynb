{
 "cells": [
  {
   "cell_type": "code",
   "execution_count": 37,
   "id": "48f020cd",
   "metadata": {},
   "outputs": [],
   "source": [
    "import pandas as pd\n",
    "import datetime\n",
    "import numpy as np"
   ]
  },
  {
   "cell_type": "code",
   "execution_count": 17,
   "id": "2f9465f9",
   "metadata": {},
   "outputs": [],
   "source": [
    "file_path = '/Users/dmitrijdolgopolov/Documents/1_study_python/projects/1_avito_parsing/flats_from_avito'"
   ]
  },
  {
   "cell_type": "code",
   "execution_count": 95,
   "id": "a1790f19",
   "metadata": {},
   "outputs": [],
   "source": [
    "current_date = datetime.datetime.today().strftime('%d.%m.%Y')\n",
    "file_name = f'flats_from_avito_{current_date}.csv'"
   ]
  },
  {
   "cell_type": "code",
   "execution_count": 96,
   "id": "3df3a9e1",
   "metadata": {},
   "outputs": [],
   "source": [
    "df = pd.read_csv(file_path + '/' + file_name)"
   ]
  },
  {
   "cell_type": "code",
   "execution_count": 58,
   "id": "e399742c",
   "metadata": {},
   "outputs": [],
   "source": [
    "def fix_floor(x):\n",
    "    'Исправляет опечатку в этажности'\n",
    "    if x == 99:\n",
    "        x = 9\n",
    "        return x\n",
    "    else:\n",
    "        return x"
   ]
  },
  {
   "cell_type": "code",
   "execution_count": 100,
   "id": "a8110395",
   "metadata": {},
   "outputs": [],
   "source": [
    "df = df.drop(columns='Unnamed: 0')"
   ]
  },
  {
   "cell_type": "code",
   "execution_count": 106,
   "id": "4e24d2b8",
   "metadata": {},
   "outputs": [
    {
     "data": {
      "text/plain": [
       "url                 object\n",
       "Cost                 int64\n",
       "Rooms                int64\n",
       "Square             float64\n",
       "Cost_per_m2          int64\n",
       "Floor                int64\n",
       "Floors_in_house      int64\n",
       "Address             object\n",
       "Metro               object\n",
       "Metro_distance      object\n",
       "Date                object\n",
       "Date_note           object\n",
       "dtype: object"
      ]
     },
     "execution_count": 106,
     "metadata": {},
     "output_type": "execute_result"
    }
   ],
   "source": [
    "df.dtypes"
   ]
  },
  {
   "cell_type": "code",
   "execution_count": 102,
   "id": "1e7a7cc1",
   "metadata": {},
   "outputs": [],
   "source": [
    "# исправляет опечатку в этажности\n",
    "df.Floors_in_house = df.Floors_in_house.apply(fix_floor)"
   ]
  },
  {
   "cell_type": "code",
   "execution_count": 109,
   "id": "0af6796b",
   "metadata": {},
   "outputs": [],
   "source": [
    "# средние, мин и макс цены за 1 кв.м в домах разной этажности\n",
    "costs_by_floors_in_house = df.groupby('Floors_in_house', as_index=False). \\\n",
    "                              agg({'Cost_per_m2': ['mean', 'min', 'max']}). \\\n",
    "                              sort_values(('Cost_per_m2', 'mean'))"
   ]
  },
  {
   "cell_type": "markdown",
   "id": "df8de98e",
   "metadata": {},
   "source": [
    "**Девятиэтажные дома**"
   ]
  },
  {
   "cell_type": "code",
   "execution_count": 110,
   "id": "bde9429c",
   "metadata": {},
   "outputs": [],
   "source": [
    "# фильтрую по 9-этажным домам\n",
    "df_9_floors_houses = df.query('Floors_in_house == 9')"
   ]
  },
  {
   "cell_type": "code",
   "execution_count": 111,
   "id": "ad9d63cd",
   "metadata": {},
   "outputs": [
    {
     "data": {
      "text/plain": [
       "147"
      ]
     },
     "execution_count": 111,
     "metadata": {},
     "output_type": "execute_result"
    }
   ],
   "source": [
    "# число объявлений\n",
    "df_9_floors_houses.url.nunique()"
   ]
  },
  {
   "cell_type": "code",
   "execution_count": 112,
   "id": "de77aecb",
   "metadata": {},
   "outputs": [
    {
     "data": {
      "text/plain": [
       "0"
      ]
     },
     "execution_count": 112,
     "metadata": {},
     "output_type": "execute_result"
    }
   ],
   "source": [
    "# проверяю повторы\n",
    "df_9_floors_houses.duplicated().sum()"
   ]
  },
  {
   "cell_type": "code",
   "execution_count": 74,
   "id": "74d315ce",
   "metadata": {},
   "outputs": [
    {
     "data": {
      "text/plain": [
       "172335.60090702947"
      ]
     },
     "execution_count": 74,
     "metadata": {},
     "output_type": "execute_result"
    }
   ],
   "source": [
    "7600000 / 44.1"
   ]
  },
  {
   "cell_type": "code",
   "execution_count": 91,
   "id": "e940e1d9",
   "metadata": {},
   "outputs": [
    {
     "data": {
      "text/plain": [
       "7629300.0"
      ]
     },
     "execution_count": 91,
     "metadata": {},
     "output_type": "execute_result"
    }
   ],
   "source": [
    "173000 * 44.1"
   ]
  },
  {
   "cell_type": "code",
   "execution_count": 114,
   "id": "8da56e15",
   "metadata": {},
   "outputs": [
    {
     "data": {
      "text/plain": [
       "0.250    145928.50\n",
       "0.500    155577.00\n",
       "0.750    166312.00\n",
       "0.815    172889.64\n",
       "Name: Cost_per_m2, dtype: float64"
      ]
     },
     "execution_count": 114,
     "metadata": {},
     "output_type": "execute_result"
    }
   ],
   "source": [
    "# нахожу квантили\n",
    "quantiles = df_9_floors_houses.Cost_per_m2.quantile([0.25, 0.5, 0.75, 0.815])\n",
    "quantiles"
   ]
  },
  {
   "cell_type": "code",
   "execution_count": 115,
   "id": "f08b1b37",
   "metadata": {},
   "outputs": [],
   "source": [
    "df_9_floors_houses[df_9_floors_houses.Cost_per_m2 > quantiles[0.750]] \\\n",
    "    .sort_values('Cost_per_m2', ascending=False) \\\n",
    "    .to_csv('''/Users/dmitrijdolgopolov/Documents/1_study_python/projects/1_avito_parsing/flats_from_avito/top/9_floors_houses_0.75_percentile.csv''')"
   ]
  },
  {
   "cell_type": "code",
   "execution_count": null,
   "id": "12610b48",
   "metadata": {},
   "outputs": [],
   "source": []
  },
  {
   "cell_type": "code",
   "execution_count": 68,
   "id": "dfe42f84",
   "metadata": {},
   "outputs": [
    {
     "data": {
      "text/html": [
       "<div>\n",
       "<style scoped>\n",
       "    .dataframe tbody tr th:only-of-type {\n",
       "        vertical-align: middle;\n",
       "    }\n",
       "\n",
       "    .dataframe tbody tr th {\n",
       "        vertical-align: top;\n",
       "    }\n",
       "\n",
       "    .dataframe thead th {\n",
       "        text-align: right;\n",
       "    }\n",
       "</style>\n",
       "<table border=\"1\" class=\"dataframe\">\n",
       "  <thead>\n",
       "    <tr style=\"text-align: right;\">\n",
       "      <th></th>\n",
       "      <th>url</th>\n",
       "      <th>Cost</th>\n",
       "      <th>Rooms</th>\n",
       "      <th>Square</th>\n",
       "      <th>Floor</th>\n",
       "      <th>Floors_in_house</th>\n",
       "      <th>Address</th>\n",
       "      <th>Metro</th>\n",
       "      <th>Date</th>\n",
       "      <th>Date_note</th>\n",
       "      <th>cost_per_m2</th>\n",
       "    </tr>\n",
       "  </thead>\n",
       "  <tbody>\n",
       "    <tr>\n",
       "      <th>1</th>\n",
       "      <td>https://www.avito.ru/sankt-peterburg/kvartiry/...</td>\n",
       "      <td>7279000</td>\n",
       "      <td>2</td>\n",
       "      <td>50.6</td>\n",
       "      <td>8</td>\n",
       "      <td>9</td>\n",
       "      <td>ул. Дыбенко, 12к3</td>\n",
       "      <td>Улица Дыбенко</td>\n",
       "      <td>13.04.2023</td>\n",
       "      <td>39 минут назад</td>\n",
       "      <td>143853</td>\n",
       "    </tr>\n",
       "    <tr>\n",
       "      <th>6</th>\n",
       "      <td>https://www.avito.ru/sankt-peterburg/kvartiry/...</td>\n",
       "      <td>4562790</td>\n",
       "      <td>2</td>\n",
       "      <td>50.2</td>\n",
       "      <td>6</td>\n",
       "      <td>9</td>\n",
       "      <td>Товарищеский пр-т, 2к2</td>\n",
       "      <td>Проспект Большевиков</td>\n",
       "      <td>13.04.2023</td>\n",
       "      <td>35 минут назад</td>\n",
       "      <td>90892</td>\n",
       "    </tr>\n",
       "    <tr>\n",
       "      <th>9</th>\n",
       "      <td>https://www.avito.ru/sankt-peterburg/kvartiry/...</td>\n",
       "      <td>6800000</td>\n",
       "      <td>2</td>\n",
       "      <td>50.9</td>\n",
       "      <td>5</td>\n",
       "      <td>9</td>\n",
       "      <td>ул. Дыбенко, 12к1</td>\n",
       "      <td>Улица Дыбенко</td>\n",
       "      <td>13.04.2023</td>\n",
       "      <td>12 часов назад</td>\n",
       "      <td>133595</td>\n",
       "    </tr>\n",
       "    <tr>\n",
       "      <th>15</th>\n",
       "      <td>https://www.avito.ru/sankt-peterburg/kvartiry/...</td>\n",
       "      <td>8000000</td>\n",
       "      <td>2</td>\n",
       "      <td>50.2</td>\n",
       "      <td>5</td>\n",
       "      <td>9</td>\n",
       "      <td>Санкт-Петербург, Товарищеский проспект, 2к2</td>\n",
       "      <td>Проспект Большевиков</td>\n",
       "      <td>12.04.2023</td>\n",
       "      <td>1 день назад</td>\n",
       "      <td>159362</td>\n",
       "    </tr>\n",
       "    <tr>\n",
       "      <th>31</th>\n",
       "      <td>https://www.avito.ru/sankt-peterburg/kvartiry/...</td>\n",
       "      <td>7350000</td>\n",
       "      <td>2</td>\n",
       "      <td>51.0</td>\n",
       "      <td>3</td>\n",
       "      <td>9</td>\n",
       "      <td>ул. Подвойского, 17к2</td>\n",
       "      <td>Улица Дыбенко</td>\n",
       "      <td>07.04.2023</td>\n",
       "      <td>6 дней назад</td>\n",
       "      <td>144117</td>\n",
       "    </tr>\n",
       "  </tbody>\n",
       "</table>\n",
       "</div>"
      ],
      "text/plain": [
       "                                                  url     Cost  Rooms  Square  \\\n",
       "1   https://www.avito.ru/sankt-peterburg/kvartiry/...  7279000      2    50.6   \n",
       "6   https://www.avito.ru/sankt-peterburg/kvartiry/...  4562790      2    50.2   \n",
       "9   https://www.avito.ru/sankt-peterburg/kvartiry/...  6800000      2    50.9   \n",
       "15  https://www.avito.ru/sankt-peterburg/kvartiry/...  8000000      2    50.2   \n",
       "31  https://www.avito.ru/sankt-peterburg/kvartiry/...  7350000      2    51.0   \n",
       "\n",
       "    Floor  Floors_in_house                                      Address  \\\n",
       "1       8                9                            ул. Дыбенко, 12к3   \n",
       "6       6                9                       Товарищеский пр-т, 2к2   \n",
       "9       5                9                            ул. Дыбенко, 12к1   \n",
       "15      5                9  Санкт-Петербург, Товарищеский проспект, 2к2   \n",
       "31      3                9                        ул. Подвойского, 17к2   \n",
       "\n",
       "                   Metro        Date       Date_note  cost_per_m2  \n",
       "1          Улица Дыбенко  13.04.2023  39 минут назад       143853  \n",
       "6   Проспект Большевиков  13.04.2023  35 минут назад        90892  \n",
       "9          Улица Дыбенко  13.04.2023  12 часов назад       133595  \n",
       "15  Проспект Большевиков  12.04.2023    1 день назад       159362  \n",
       "31         Улица Дыбенко  07.04.2023    6 дней назад       144117  "
      ]
     },
     "execution_count": 68,
     "metadata": {},
     "output_type": "execute_result"
    }
   ],
   "source": [
    "df_9_floors_houses.head()"
   ]
  },
  {
   "cell_type": "code",
   "execution_count": 27,
   "id": "ff88b924",
   "metadata": {},
   "outputs": [
    {
     "data": {
      "text/plain": [
       "7688279.376712329"
      ]
     },
     "execution_count": 27,
     "metadata": {},
     "output_type": "execute_result"
    }
   ],
   "source": []
  },
  {
   "cell_type": "code",
   "execution_count": null,
   "id": "dc0bb03b",
   "metadata": {},
   "outputs": [],
   "source": []
  },
  {
   "cell_type": "code",
   "execution_count": null,
   "id": "57bca4f8",
   "metadata": {},
   "outputs": [],
   "source": []
  },
  {
   "cell_type": "code",
   "execution_count": null,
   "id": "ed3eaa9a",
   "metadata": {},
   "outputs": [],
   "source": []
  }
 ],
 "metadata": {
  "kernelspec": {
   "display_name": "Python 3 (ipykernel)",
   "language": "python",
   "name": "python3"
  },
  "language_info": {
   "codemirror_mode": {
    "name": "ipython",
    "version": 3
   },
   "file_extension": ".py",
   "mimetype": "text/x-python",
   "name": "python",
   "nbconvert_exporter": "python",
   "pygments_lexer": "ipython3",
   "version": "3.9.12"
  }
 },
 "nbformat": 4,
 "nbformat_minor": 5
}
